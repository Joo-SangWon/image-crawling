{
 "cells": [
  {
   "cell_type": "code",
   "execution_count": 1,
   "metadata": {},
   "outputs": [],
   "source": [
    "from urllib import robotparser\n",
    "from urllib import request\n",
    "from urllib.parse import urlparse, urljoin, urlencode, quote_plus, quote, unquote\n",
    "from urllib.error import HTTPError\n",
    "import requests\n",
    "from requests.compat import urlparse, urljoin\n",
    "from requests.exceptions import HTTPError\n",
    "import time\n",
    "from bs4 import BeautifulSoup\n",
    "from urllib.robotparser import RobotFileParser"
   ]
  },
  {
   "cell_type": "code",
   "execution_count": 2,
   "metadata": {},
   "outputs": [],
   "source": [
    "robot = robotparser.RobotFileParser()"
   ]
  },
  {
   "cell_type": "code",
   "execution_count": 3,
   "metadata": {},
   "outputs": [],
   "source": [
    "def canfetch(url, agent='*', path='/'):\n",
    "    robot = RobotFileParser(urljoin(url, '/robots.txt'))\n",
    "    robot.read()\n",
    "    return robot.can_fetch(agent,urlparse(url)[2])"
   ]
  },
  {
   "cell_type": "code",
   "execution_count": 4,
   "metadata": {},
   "outputs": [],
   "source": [
    "def download(url, params={}, headers={}, method='GET', limit=3):\n",
    "    if canfetch(url) == False:\n",
    "        print('[Error] ' + url)\n",
    "    try:\n",
    "        resp = requests.request(method, url,\n",
    "                               params = params if method == 'GET' else {},\n",
    "                               data = params if method == 'GET' else {},\n",
    "                               headers = headers)\n",
    "        resp.raise_for_status()\n",
    "    except HTTPError as e:\n",
    "        if limit >0 and e.response.status_code >= 500:\n",
    "            print(limit)\n",
    "            time.sleep(100)\n",
    "            resp = download(url, params, headers, method, limit-1)\n",
    "        else:\n",
    "            print('[{}]'.format(e.response.status_code)+url)\n",
    "            print(e.response.status_code)\n",
    "            print(e.response.reason)\n",
    "            print(e.response.headers)\n",
    "    return resp\n",
    "        "
   ]
  },
  {
   "cell_type": "code",
   "execution_count": 5,
   "metadata": {},
   "outputs": [],
   "source": [
    "resp = download('http://pythonscraping.com/pages/page3.html')\n",
    "dom = BeautifulSoup(resp.content,'lxml')"
   ]
  },
  {
   "cell_type": "code",
   "execution_count": 6,
   "metadata": {},
   "outputs": [],
   "source": [
    "node = dom.find('div', {'id':'footer'})"
   ]
  },
  {
   "cell_type": "code",
   "execution_count": 10,
   "metadata": {
    "scrolled": true
   },
   "outputs": [
    {
     "name": "stdout",
     "output_type": "stream",
     "text": [
      "div\n",
      "body\n",
      "html\n",
      "[document]\n"
     ]
    }
   ],
   "source": [
    "for _ in node.find_parents():\n",
    "    print(_.name)"
   ]
  },
  {
   "cell_type": "code",
   "execution_count": 13,
   "metadata": {
    "scrolled": true
   },
   "outputs": [
    {
     "data": {
      "text/plain": [
       "[<div id=\"wrapper\">\n",
       " <img src=\"../img/gifts/logo.jpg\" style=\"float:left;\"/>\n",
       " <h1>Totally Normal Gifts</h1>\n",
       " <div id=\"content\">Here is a collection of totally normal, totally reasonable gifts that your friends are sure to love! Our collection is\n",
       " hand-curated by well-paid, free-range Tibetan monks.<p>\n",
       " We haven't figured out how to make online shopping carts yet, but you can send us a check to:<br/>\n",
       " 123 Main St.<br/>\n",
       " Abuja, Nigeria\n",
       " We will then send your totally amazing gift, pronto! Please include an extra $5.00 for gift wrapping.</p></div>\n",
       " <table id=\"giftList\">\n",
       " <tr><th>\n",
       " Item Title\n",
       " </th><th>\n",
       " Description\n",
       " </th><th>\n",
       " Cost\n",
       " </th><th>\n",
       " Image\n",
       " </th></tr>\n",
       " <tr class=\"gift\" id=\"gift1\"><td>\n",
       " Vegetable Basket\n",
       " </td><td>\n",
       " This vegetable basket is the perfect gift for your health conscious (or overweight) friends!\n",
       " <span class=\"excitingNote\">Now with super-colorful bell peppers!</span>\n",
       " </td><td>\n",
       " $15.00\n",
       " </td><td>\n",
       " <img src=\"../img/gifts/img1.jpg\"/>\n",
       " </td></tr>\n",
       " <tr class=\"gift\" id=\"gift2\"><td>\n",
       " Russian Nesting Dolls\n",
       " </td><td>\n",
       " Hand-painted by trained monkeys, these exquisite dolls are priceless! And by \"priceless,\" we mean \"extremely expensive\"! <span class=\"excitingNote\">8 entire dolls per set! Octuple the presents!</span>\n",
       " </td><td>\n",
       " $10,000.52\n",
       " </td><td>\n",
       " <img src=\"../img/gifts/img2.jpg\"/>\n",
       " </td></tr>\n",
       " <tr class=\"gift\" id=\"gift3\"><td>\n",
       " Fish Painting\n",
       " </td><td>\n",
       " If something seems fishy about this painting, it's because it's a fish! <span class=\"excitingNote\">Also hand-painted by trained monkeys!</span>\n",
       " </td><td>\n",
       " $10,005.00\n",
       " </td><td>\n",
       " <img src=\"../img/gifts/img3.jpg\"/>\n",
       " </td></tr>\n",
       " <tr class=\"gift\" id=\"gift4\"><td>\n",
       " Dead Parrot\n",
       " </td><td>\n",
       " This is an ex-parrot! <span class=\"excitingNote\">Or maybe he's only resting?</span>\n",
       " </td><td>\n",
       " $0.50\n",
       " </td><td>\n",
       " <img src=\"../img/gifts/img4.jpg\"/>\n",
       " </td></tr>\n",
       " <tr class=\"gift\" id=\"gift5\"><td>\n",
       " Mystery Box\n",
       " </td><td>\n",
       " If you love suprises, this mystery box is for you! Do not place on light-colored surfaces. May cause oil staining. <span class=\"excitingNote\">Keep your friends guessing!</span>\n",
       " </td><td>\n",
       " $1.50\n",
       " </td><td>\n",
       " <img src=\"../img/gifts/img6.jpg\"/>\n",
       " </td></tr>\n",
       " </table>\n",
       " <div id=\"footer\">\n",
       " © Totally Normal Gifts, Inc. <br/>\n",
       " +234 (617) 863-0736\n",
       " </div>\n",
       " </div>]"
      ]
     },
     "execution_count": 13,
     "metadata": {},
     "output_type": "execute_result"
    }
   ],
   "source": [
    "node.find_parents('div')"
   ]
  },
  {
   "cell_type": "code",
   "execution_count": 14,
   "metadata": {},
   "outputs": [
    {
     "data": {
      "text/plain": [
       "'https://www.google.com/img/gifts/logo.jpg'"
      ]
     },
     "execution_count": 14,
     "metadata": {},
     "output_type": "execute_result"
    }
   ],
   "source": [
    "urljoin(resp.request.url, node.find_previous_siblings()[-1]['src'])"
   ]
  },
  {
   "cell_type": "code",
   "execution_count": 19,
   "metadata": {},
   "outputs": [],
   "source": [
    "url = 'https://www.google.com/search'\n",
    "params = {\n",
    "    'q': '',\n",
    "    'oq':'',\n",
    "    'aqs': 'chrome.0.69i59l4j69i61l2j69i60.1539j1j7',\n",
    "    'sourceid':'chrome',\n",
    "    'ie':'UTF-8'\n",
    "}\n",
    "params['q'] = params['oq'] = quote('파이썬')\n",
    "headers = {\n",
    "    'user-agent' : 'Mozilla/5.0 (Windows NT 10.0; Win64; x64) AppleWebKit/537.36 (KHTML, like Gecko) Chrome/83.0.4103.116 Safari/537.36'\n",
    "}\n"
   ]
  },
  {
   "cell_type": "code",
   "execution_count": 22,
   "metadata": {},
   "outputs": [
    {
     "name": "stdout",
     "output_type": "stream",
     "text": [
      "[Error] https://www.google.com/search\n",
      "[400]https://www.google.com/search\n",
      "400\n",
      "Bad Request\n",
      "{'Content-Type': 'text/html; charset=UTF-8', 'Referrer-Policy': 'no-referrer', 'Content-Length': '1555', 'Date': 'Sat, 18 Jul 2020 08:05:23 GMT'}\n"
     ]
    }
   ],
   "source": [
    "resp = download(url, params, headers, 'GET')\n",
    "dom = BeautifulSoup(resp.text, 'html.parser')"
   ]
  },
  {
   "cell_type": "code",
   "execution_count": 23,
   "metadata": {},
   "outputs": [
    {
     "data": {
      "text/plain": [
       "[]"
      ]
     },
     "execution_count": 23,
     "metadata": {},
     "output_type": "execute_result"
    }
   ],
   "source": [
    "[(_.text.strip(), _.find_parents('a')[0]['href'])\n",
    "for _ in dom.find_all('h3',{'class':'LC20lb'})]"
   ]
  },
  {
   "cell_type": "code",
   "execution_count": 24,
   "metadata": {},
   "outputs": [],
   "source": [
    "url = 'http://minwon.moel.go.kr/minwon2008/lc_minwon/lc_form_apply.do'\n",
    "params ={\n",
    "    'cd_appeal_form': 'ALL',\n",
    "    'srch_gubn': '',\n",
    "    'srch_cd_appeal_form':'', \n",
    "    'search_capp_biz_cd': '',\n",
    "    'cate_name': '(unable to decode value)',\n",
    "    'sub_cate_name': '',\n",
    "    'view_cnt': 10,\n",
    "    'company_yn': 0,\n",
    "    'q_string': '',\n",
    "    'pageIndex': 1,\n",
    "    'pageSize': 10,\n",
    "    'pageUnit': 10,\n",
    "    'large_category_idx': 0,\n",
    "    'middle_category_idx': 0,\n",
    "    'tot_middle_category_idx': 1,\n",
    "    'large_category_cd': '',\n",
    "    'middle_category_cd': ''\n",
    "}\n",
    "headers ={\n",
    "    'user-agent' : 'Mozilla/5.0 (Windows NT 10.0; Win64; x64) AppleWebKit/537.36 (KHTML, like Gecko) Chrome/83.0.4103.116 Safari/537.36'\n",
    "}"
   ]
  },
  {
   "cell_type": "code",
   "execution_count": 28,
   "metadata": {},
   "outputs": [],
   "source": [
    "resp = download(url, params ,headers, 'POST')\n",
    "dom = BeautifulSoup(resp.text, 'lxml')"
   ]
  },
  {
   "cell_type": "code",
   "execution_count": 32,
   "metadata": {},
   "outputs": [],
   "source": [
    "node = dom.find('div', {'class':'cm_table2'})"
   ]
  },
  {
   "cell_type": "code",
   "execution_count": 33,
   "metadata": {
    "scrolled": true
   },
   "outputs": [
    {
     "name": "stdout",
     "output_type": "stream",
     "text": [
      "div\n",
      "form\n",
      "div\n",
      "div\n",
      "div\n",
      "div\n",
      "body\n",
      "html\n",
      "[document]\n"
     ]
    }
   ],
   "source": [
    "for _ in node.find_parents():\n",
    "    print(_.name)"
   ]
  },
  {
   "cell_type": "code",
   "execution_count": 34,
   "metadata": {},
   "outputs": [
    {
     "data": {
      "text/plain": [
       "<div class=\"location\">\n",
       "<ul>\n",
       "<li class=\"home\"><a href=\"/minwon2008/index_new.do\">홈</a></li>\n",
       "<li><span><a href=\"/minwon2008/lc_minwon/lc_form_apply.do\">민원신청</a></span></li>\n",
       "<li class=\"spot\"><span><strong>서식민원</strong></span></li>\n",
       "</ul>\n",
       "</div>"
      ]
     },
     "execution_count": 34,
     "metadata": {},
     "output_type": "execute_result"
    }
   ],
   "source": [
    "node.find_parents('div')[0].find_all(recursive=False)[0]"
   ]
  },
  {
   "cell_type": "code",
   "execution_count": 35,
   "metadata": {},
   "outputs": [
    {
     "name": "stdout",
     "output_type": "stream",
     "text": [
      "div\n",
      "div\n",
      "div\n",
      "div\n",
      "h3\n",
      "div\n"
     ]
    }
   ],
   "source": [
    "for _ in node.find_previous_siblings():\n",
    "    print(_.name)"
   ]
  },
  {
   "cell_type": "code",
   "execution_count": 55,
   "metadata": {
    "collapsed": true
   },
   "outputs": [
    {
     "data": {
      "text/plain": [
       "[<div class=\"cm_table2_top v2\">\n",
       " <p class=\"table_top_noti\"> 서식파일은 방문·우편·팩스를 통한 접수에 사용하시기 바랍니다.</p>\n",
       " <ul>\n",
       " <li><span class=\"cm_txt_box_blue\">신청</span> 민원마당 신청</li>\n",
       " <li><span class=\"cm_txt_box_yellow\">이동</span> 연계사이트 이동</li>\n",
       " </ul>\n",
       " </div>, <div class=\"table_top\">\n",
       " <div class=\"f1\">\n",
       " <select class=\"cm_select\" id=\"view_cnt\" name=\"view_cnt\" style=\"width:130px;\" title=\"게시판 목록보기 갯수선택\"> <!-- onchange=\"chgViewCount(this.value);\" -->\n",
       " <option selected=\" selected\" value=\"10\">10개씩 보기</option>\n",
       " <option value=\"20\">20개씩 보기</option>\n",
       " <option value=\"50\">50개씩 보기</option>\n",
       " <option value=\"100\">100개씩 보기</option>\n",
       " </select>\n",
       " <select class=\"cm_select\" id=\"company_yn\" name=\"company_yn\" title=\"신청대상 선택\"> <!-- onchange=\"srchMinwonDoc('chgTarget');\"-->\n",
       " <option value=\"0\">전체</option>\n",
       " <option value=\"1\">개인</option>\n",
       " <option value=\"2\">기업</option>\n",
       " </select>\n",
       " <span>\n",
       " <input class=\"cm_inptxt\" id=\"q_string\" name=\"q_string\" onkeypress=\"if(window.event.keyCode == 13) srchMinwonDoc();\" style=\"width:300px;ime-mode:active;\" title=\"서식 명을 입력하세요\" type=\"text\" value=\"\"/> <a class=\"cm_btn_gray small\" href=\"javascript:srchMinwonDoc();\">검색</a>\n",
       " </span>\n",
       " </div>\n",
       " </div>, <div class=\"minwon_cate v2\"><!-- 150918 -->\n",
       " <p class=\"top\">\n",
       " <span>민원분류</span>\n",
       " <a class=\"cm_btn_s\" href=\"#part_total_view_go\" id=\"btn_min_total\" onclick=\"modal_pop($('.layer_pop'));return false;\">분야별 전체민원보기</a>\n",
       " </p>\n",
       " <table class=\"table_tab\">\n",
       " <caption>분야별 전체민원</caption>\n",
       " <colgroup>\n",
       " <col style=\"width:8%\"/>\n",
       " <col/>\n",
       " <col style=\"width:9%\"/>\n",
       " <col style=\"width:9%\"/>\n",
       " <col style=\"width:9%\"/>\n",
       " <col style=\"width:9%\"/>\n",
       " <col style=\"width:9%\"/>\n",
       " <col style=\"width:9%\"/>\n",
       " <col style=\"width:9%\"/>\n",
       " <col style=\"width:9%\"/>\n",
       " <col style=\"width:9%\"/>\n",
       " </colgroup>\n",
       " <thead>\n",
       " <tr>\n",
       " <th id=\"lCategory_go\"><p onclick=\"srchMinwonDoc('lCate', '000000', 0, 0, '전체');\" onkeypress=\"srchMinwonDoc('lCate', '000000', 0, 0, '전체');\" tabindex=\"0\">전체</p></th>\n",
       " <th><p onclick=\"srchMinwonDoc('lCate', '010000', 1, 1, '일자리지원');\" onkeypress=\"srchMinwonDoc('lCate', '010000', 1, 1, '일자리지원');\" tabindex=\"0\">일자리지원</p></th>\n",
       " <th><p onclick=\"srchMinwonDoc('lCate', '020000', 2, 9, '고용보험');\" onkeypress=\"srchMinwonDoc('lCate', '020000', 2, 9, '고용보험');\" tabindex=\"0\">고용보험</p></th>\n",
       " <th><p onclick=\"srchMinwonDoc('lCate', '030000', 3, 12, '직업능력');\" onkeypress=\"srchMinwonDoc('lCate', '030000', 3, 12, '직업능력');\" tabindex=\"0\">직업능력</p></th>\n",
       " <th><p onclick=\"srchMinwonDoc('lCate', '040000', 4, 16, '고용평등');\" onkeypress=\"srchMinwonDoc('lCate', '040000', 4, 16, '고용평등');\" tabindex=\"0\">고용평등</p></th>\n",
       " <th><p onclick=\"srchMinwonDoc('lCate', '050000', 5, 20, '고용안정');\" onkeypress=\"srchMinwonDoc('lCate', '050000', 5, 20, '고용안정');\" tabindex=\"0\">고용안정</p></th>\n",
       " <th><p onclick=\"srchMinwonDoc('lCate', '060000', 6, 22, '노사협력');\" onkeypress=\"srchMinwonDoc('lCate', '060000', 6, 22, '노사협력');\" tabindex=\"0\">노사협력</p></th>\n",
       " <th><p onclick=\"srchMinwonDoc('lCate', '070000', 7, 31, '근로기준');\" onkeypress=\"srchMinwonDoc('lCate', '070000', 7, 31, '근로기준');\" tabindex=\"0\">근로기준</p></th>\n",
       " <th><p onclick=\"srchMinwonDoc('lCate', '080000', 8, 43, '산재예방');\" onkeypress=\"srchMinwonDoc('lCate', '080000', 8, 43, '산재예방');\" tabindex=\"0\">산재예방</p></th>\n",
       " <th><p onclick=\"srchMinwonDoc('lCate', '090000', 9, 51, '외국인력');\" onkeypress=\"srchMinwonDoc('lCate', '090000', 9, 51, '외국인력');\" tabindex=\"0\">외국인력</p></th>\n",
       " <th><p onclick=\"srchMinwonDoc('lCate', '100000', 10, 53, '일반행정');\" onkeypress=\"srchMinwonDoc('lCate', '100000', 10, 53, '일반행정');\" tabindex=\"0\">일반행정</p></th>\n",
       " </tr>\n",
       " </thead>\n",
       " <tbody class=\"on\">\n",
       " <tr>\n",
       " <td colspan=\"11\">\n",
       " <ul class=\"table_tab_list\">\n",
       " <li><a href=\"#\">전체(253건)</a></li>\n",
       " </ul>\n",
       " </td>\n",
       " </tr>\n",
       " </tbody>\n",
       " <tbody>\n",
       " <tr>\n",
       " <td colspan=\"11\">\n",
       " <ul class=\"table_tab_list\">\n",
       " <li><a href=\"javascript:srchMinwonDoc('lCate', '010000', , ,'일자리지원','전체'\">전체(34건)</a></li>\n",
       " <li><a href=\"javascript:srchMinwonDoc('mCate', '010001', 2, '', '일자리지원','구인/구직');\">구인/구직(3건)</a></li>\n",
       " <li><a href=\"javascript:srchMinwonDoc('mCate', '010002', 3, '', '일자리지원','직업소개');\">직업소개(14건)</a></li>\n",
       " <li><a href=\"javascript:srchMinwonDoc('mCate', '010003', 4, '', '일자리지원','취업성공패키지');\">취업성공패키지(7건)</a></li>\n",
       " <li><a href=\"javascript:srchMinwonDoc('mCate', '010004', 5, '', '일자리지원','청년/여성고용');\">청년/여성고용(1건)</a></li>\n",
       " <li><a href=\"javascript:srchMinwonDoc('mCate', '010005', 6, '', '일자리지원','고령사회인력');\">고령사회인력(7건)</a></li>\n",
       " <li><a href=\"javascript:srchMinwonDoc('mCate', '010006', 7, '', '일자리지원','시간선택제');\">시간선택제(1건)</a></li>\n",
       " <li><a href=\"javascript:srchMinwonDoc('mCate', '010007', 8, '', '일자리지원','사회적기업');\">사회적기업(1건)</a></li>\n",
       " </ul>\n",
       " </td>\n",
       " </tr>\n",
       " </tbody>\n",
       " <tbody>\n",
       " <tr>\n",
       " <td colspan=\"11\">\n",
       " <ul class=\"table_tab_list\">\n",
       " <li><a href=\"javascript:srchMinwonDoc('lCate', '020000', , ,'고용보험','전체'\">전체(30건)</a></li>\n",
       " <li><a href=\"javascript:srchMinwonDoc('mCate', '020001', 10, '', '고용보험','실업급여');\">실업급여(17건)</a></li>\n",
       " <li><a href=\"javascript:srchMinwonDoc('mCate', '020002', 11, '', '고용보험','고용보험 가입/상실');\">고용보험 가입/상실(13건)</a></li>\n",
       " </ul>\n",
       " </td>\n",
       " </tr>\n",
       " </tbody>\n",
       " <tbody>\n",
       " <tr>\n",
       " <td colspan=\"11\">\n",
       " <ul class=\"table_tab_list\">\n",
       " <li><a href=\"javascript:srchMinwonDoc('lCate', '030000', , ,'직업능력','전체'\">전체(9건)</a></li>\n",
       " <li><a href=\"javascript:srchMinwonDoc('mCate', '030001', 13, '', '직업능력','내일배움카드');\">내일배움카드(1건)</a></li>\n",
       " <li><a href=\"javascript:srchMinwonDoc('mCate', '030002', 14, '', '직업능력','근로자 직업능력개발');\">근로자 직업능력개발(4건)</a></li>\n",
       " <li><a href=\"javascript:srchMinwonDoc('mCate', '030003', 15, '', '직업능력','기술/자격');\">기술/자격(4건)</a></li>\n",
       " </ul>\n",
       " </td>\n",
       " </tr>\n",
       " </tbody>\n",
       " <tbody>\n",
       " <tr>\n",
       " <td colspan=\"11\">\n",
       " <ul class=\"table_tab_list\">\n",
       " <li><a href=\"javascript:srchMinwonDoc('lCate', '040000', , ,'고용평등','전체'\">전체(14건)</a></li>\n",
       " <li><a href=\"javascript:srchMinwonDoc('mCate', '040001', 17, '', '고용평등','모성보호');\">모성보호(9건)</a></li>\n",
       " <li><a href=\"javascript:srchMinwonDoc('mCate', '040002', 18, '', '고용평등','장애인고용');\">장애인고용(2건)</a></li>\n",
       " <li><a href=\"javascript:srchMinwonDoc('mCate', '040003', 19, '', '고용평등','직장내성희롱');\">직장내성희롱(3건)</a></li>\n",
       " </ul>\n",
       " </td>\n",
       " </tr>\n",
       " </tbody>\n",
       " <tbody>\n",
       " <tr>\n",
       " <td colspan=\"11\">\n",
       " <ul class=\"table_tab_list\">\n",
       " <li><a href=\"javascript:srchMinwonDoc('lCate', '050000', , ,'고용안정','전체'\">전체(36건)</a></li>\n",
       " <li><a href=\"#\"></a></li>\n",
       " </ul>\n",
       " </td>\n",
       " </tr>\n",
       " </tbody>\n",
       " <tbody>\n",
       " <tr>\n",
       " <td colspan=\"11\">\n",
       " <ul class=\"table_tab_list\">\n",
       " <li><a href=\"javascript:srchMinwonDoc('lCate', '060000', , ,'노사협력','전체'\">전체(26건)</a></li>\n",
       " <li><a href=\"javascript:srchMinwonDoc('mCate', '060001', 23, '', '노사협력','노동조합');\">노동조합(14건)</a></li>\n",
       " <li><a href=\"javascript:srchMinwonDoc('mCate', '060002', 24, '', '노사협력','단체협약');\">단체협약(1건)</a></li>\n",
       " <li><a href=\"javascript:srchMinwonDoc('mCate', '060003', 25, '', '노사협력','노동쟁의/조정');\">노동쟁의/조정(0건)</a></li>\n",
       " <li><a href=\"javascript:srchMinwonDoc('mCate', '060004', 26, '', '노사협력','부당노동행위');\">부당노동행위(0건)</a></li>\n",
       " <li><a href=\"javascript:srchMinwonDoc('mCate', '060005', 27, '', '노사협력','공공노사');\">공공노사(0건)</a></li>\n",
       " <li><a href=\"javascript:srchMinwonDoc('mCate', '060006', 28, '', '노사협력','사내근로복지기금');\">사내근로복지기금(5건)</a></li>\n",
       " <li><a href=\"javascript:srchMinwonDoc('mCate', '060007', 29, '', '노사협력','우리사주조합');\">우리사주조합(4건)</a></li>\n",
       " <li><a href=\"javascript:srchMinwonDoc('mCate', '060008', 30, '', '노사협력','노사협의회');\">노사협의회(2건)</a></li>\n",
       " </ul>\n",
       " </td>\n",
       " </tr>\n",
       " </tbody>\n",
       " <tbody>\n",
       " <tr>\n",
       " <td colspan=\"11\">\n",
       " <ul class=\"table_tab_list\">\n",
       " <li><a href=\"javascript:srchMinwonDoc('lCate', '070000', , ,'근로기준','전체'\">전체(39건)</a></li>\n",
       " <li><a href=\"javascript:srchMinwonDoc('mCate', '070001', 32, '', '근로기준','임금');\">임금(4건)</a></li>\n",
       " <li><a href=\"javascript:srchMinwonDoc('mCate', '070002', 33, '', '근로기준','근로시간');\">근로시간(3건)</a></li>\n",
       " <li><a href=\"javascript:srchMinwonDoc('mCate', '070003', 34, '', '근로기준','근로계약');\">근로계약(1건)</a></li>\n",
       " <li><a href=\"javascript:srchMinwonDoc('mCate', '070004', 35, '', '근로기준','휴일/휴가');\">휴일/휴가(0건)</a></li>\n",
       " <li><a href=\"javascript:srchMinwonDoc('mCate', '070005', 36, '', '근로기준','취업규칙');\">취업규칙(2건)</a></li>\n",
       " <li><a href=\"javascript:srchMinwonDoc('mCate', '070006', 37, '', '근로기준','18세미만/여성/장애인');\">18세미만/여성/장애인(5건)</a></li>\n",
       " <li><a href=\"javascript:srchMinwonDoc('mCate', '070007', 38, '', '근로기준','감시/단속적 근로');\">감시/단속적 근로(1건)</a></li>\n",
       " <li><a href=\"javascript:srchMinwonDoc('mCate', '070008', 39, '', '근로기준','퇴직연금');\">퇴직연금(2건)</a></li>\n",
       " <li><a href=\"javascript:srchMinwonDoc('mCate', '070009', 40, '', '근로기준','임금채권보장');\">임금채권보장(12건)</a></li>\n",
       " <li><a href=\"javascript:srchMinwonDoc('mCate', '070010', 41, '', '근로기준','최저임금');\">최저임금(0건)</a></li>\n",
       " <li><a href=\"javascript:srchMinwonDoc('mCate', '070011', 42, '', '근로기준','고용차별개선');\">고용차별개선(9건)</a></li>\n",
       " </ul>\n",
       " </td>\n",
       " </tr>\n",
       " </tbody>\n",
       " <tbody>\n",
       " <tr>\n",
       " <td colspan=\"11\">\n",
       " <ul class=\"table_tab_list\">\n",
       " <li><a href=\"javascript:srchMinwonDoc('lCate', '080000', , ,'산재예방','전체'\">전체(41건)</a></li>\n",
       " <li><a href=\"javascript:srchMinwonDoc('mCate', '080001', 44, '', '산재예방','산업재해');\">산업재해(8건)</a></li>\n",
       " <li><a href=\"javascript:srchMinwonDoc('mCate', '080002', 45, '', '산재예방','전문기관 등');\">전문기관 등(17건)</a></li>\n",
       " <li><a href=\"javascript:srchMinwonDoc('mCate', '080003', 46, '', '산재예방','석면');\">석면(7건)</a></li>\n",
       " <li><a href=\"javascript:srchMinwonDoc('mCate', '080004', 47, '', '산재예방','작업환경');\">작업환경(0건)</a></li>\n",
       " <li><a href=\"javascript:srchMinwonDoc('mCate', '080005', 48, '', '산재예방','제조금지/허가 물질');\">제조금지/허가 물질(4건)</a></li>\n",
       " <li><a href=\"javascript:srchMinwonDoc('mCate', '080006', 49, '', '산재예방','안전/보건관리자 등');\">안전/보건관리자 등(5건)</a></li>\n",
       " <li><a href=\"javascript:srchMinwonDoc('mCate', '080007', 50, '', '산재예방','건강진단관리');\">건강진단관리(0건)</a></li>\n",
       " </ul>\n",
       " </td>\n",
       " </tr>\n",
       " </tbody>\n",
       " <tbody>\n",
       " <tr>\n",
       " <td colspan=\"11\">\n",
       " <ul class=\"table_tab_list\">\n",
       " <li><a href=\"javascript:srchMinwonDoc('lCate', '090000', , ,'외국인력','전체'\">전체(10건)</a></li>\n",
       " <li><a href=\"#\"></a></li>\n",
       " </ul>\n",
       " </td>\n",
       " </tr>\n",
       " </tbody>\n",
       " <tbody>\n",
       " <tr>\n",
       " <td colspan=\"11\">\n",
       " <ul class=\"table_tab_list\">\n",
       " <li><a href=\"javascript:srchMinwonDoc('lCate', '100000', , ,'일반행정','전체'\">전체(12건)</a></li>\n",
       " <li><a href=\"#\"></a></li>\n",
       " </ul>\n",
       " </td>\n",
       " </tr>\n",
       " </tbody>\n",
       " </table>\n",
       " </div>, <div class=\"conts_top\">\n",
       " <p class=\"img\"><img alt=\"서식민원\" src=\"/images/contents/conts_top_apply.jpg\"/></p>\n",
       " <ul>\n",
       " <li>- 각종 진정·신고 등 지정된 서식으로 신청하는 민원입니다.</li>\n",
       " <li>* 검색되지 않거나 오프라인으로만 접수되는 서식들은 정부24에서 다운받을 수 있습니다.   '<a href=\"https://www.minwon.go.kr/main?temp_cappBizSect=&amp;a=AA170MinwonInfoListApp&amp;sn=1&amp;pg=10&amp;form_refer_query=&amp;sortStr=&amp;sortChr=&amp;currentPage=&amp;vsect_inc_cd=&amp;queryStr=&amp;deptIncCD=1492000&amp;procIncCD=&amp;identity=&amp;x=24&amp;y=13\" style=\"font-size:15px; font-weight:bold; color:#C92800;\" target=\"_blank\" title=\"정부24 새창열림\">바로가기</a>'</li>\n",
       " </ul><!-- 150904 -->\n",
       " </div>, <h3 class=\"title\" id=\"main_container_go\">서식민원</h3>, <div class=\"location\">\n",
       " <ul>\n",
       " <li class=\"home\"><a href=\"/minwon2008/index_new.do\">홈</a></li>\n",
       " <li><span><a href=\"/minwon2008/lc_minwon/lc_form_apply.do\">민원신청</a></span></li>\n",
       " <li class=\"spot\"><span><strong>서식민원</strong></span></li>\n",
       " </ul>\n",
       " </div>]"
      ]
     },
     "execution_count": 55,
     "metadata": {},
     "output_type": "execute_result"
    }
   ],
   "source": [
    "node.find_previous_siblings()"
   ]
  },
  {
   "cell_type": "code",
   "execution_count": 41,
   "metadata": {},
   "outputs": [],
   "source": [
    "from selenium import webdriver"
   ]
  },
  {
   "cell_type": "code",
   "execution_count": 43,
   "metadata": {},
   "outputs": [],
   "source": [
    "driver = webdriver.Chrome('C:/Users/주상원/Desktop/데이터 캠퍼스/chromedriver')"
   ]
  },
  {
   "cell_type": "code",
   "execution_count": 45,
   "metadata": {},
   "outputs": [],
   "source": [
    "driver.get(url)\n",
    "# url 접근"
   ]
  },
  {
   "cell_type": "code",
   "execution_count": 54,
   "metadata": {},
   "outputs": [
    {
     "data": {
      "text/plain": [
       "['임금체불 진정서',\n",
       " '',\n",
       " '신청',\n",
       " '국가기술자격 부정행위 신고서',\n",
       " '',\n",
       " '신청',\n",
       " '산업재해 조사표',\n",
       " '',\n",
       " '신청',\n",
       " '산재발생 미보고 신고서',\n",
       " '',\n",
       " '신청',\n",
       " '직장내 성희롱 신고서',\n",
       " '',\n",
       " '신청',\n",
       " '이주비 청구서',\n",
       " '',\n",
       " '이동',\n",
       " '체당금 등 확인신청서',\n",
       " '',\n",
       " '신청',\n",
       " '감시적,단속적 근로종사자에 대한 적용제외 승인신청서',\n",
       " '',\n",
       " '신청',\n",
       " '체불 임금 등 · 사업주 확인서 발급신청서',\n",
       " '',\n",
       " '신청',\n",
       " '고용보험 피보험자격확인 청구서',\n",
       " '',\n",
       " '이동']"
      ]
     },
     "execution_count": 54,
     "metadata": {},
     "output_type": "execute_result"
    }
   ],
   "source": [
    "node = dom.find('div', {'class':'cm_table2'})\n",
    "[td.text.strip() for td in node.find_all('a')]"
   ]
  },
  {
   "cell_type": "code",
   "execution_count": 57,
   "metadata": {},
   "outputs": [
    {
     "data": {
      "text/plain": [
       "[<a class=\"over\" href=\"javascript:jsSamuDetail('TMP00000204')\">임금체불 진정서</a>,\n",
       " <a class=\"over\" href=\"javascript:jsSamuDetail('TMP00000121')\">국가기술자격 부정행위 신고서</a>,\n",
       " <a class=\"over\" href=\"javascript:jsSamuDetail('T9999999999')\">산업재해 조사표</a>,\n",
       " <a class=\"over\" href=\"javascript:jsSamuDetail('T9999999999')\">산재발생 미보고 신고서</a>,\n",
       " <a class=\"over\" href=\"javascript:jsSamuDetail('T4920000029')\">직장내 성희롱 신고서</a>,\n",
       " <a class=\"over\" href=\"javascript:jsSamuDetail('14900000078')\">이주비 청구서</a>,\n",
       " <a class=\"over\" href=\"javascript:jsSamuDetail('14900000151')\">체당금 등 확인신청서</a>,\n",
       " <a class=\"over\" href=\"javascript:jsSamuDetail('14900000126')\">감시적,단속적 근로종사자에 대한 적용제외 승인신청서</a>,\n",
       " <a class=\"over\" href=\"javascript:jsSamuDetail('14900000552')\">체불 임금 등 · 사업주 확인서 발급신청서</a>,\n",
       " <a class=\"over\" href=\"javascript:jsSamuDetail('14900000038')\">고용보험 피보험자격확인 청구서</a>]"
      ]
     },
     "execution_count": 57,
     "metadata": {},
     "output_type": "execute_result"
    }
   ],
   "source": [
    "node.find_all('a', {'class':'over'})"
   ]
  },
  {
   "cell_type": "code",
   "execution_count": 59,
   "metadata": {},
   "outputs": [
    {
     "data": {
      "text/plain": [
       "[<a href=\"javascript:openDownload('/app/minwon_admin/samu/','000007085030_132-0_임금체불진정신고서_작성예제.hwp','');\"><img alt=\"파일(HWP)\" src=\"/img/icn/hwp_icn.gif\"/></a>,\n",
       " <a href=\"javascript:openDownload('/app/minwon_admin/samu/','000006863554_부정행위신고서[1].hwp','');\"><img alt=\"파일(HWP)\" src=\"/img/icn/hwp_icn.gif\"/></a>,\n",
       " <a href=\"javascript:openDownload('/app/minwon_admin/samu/','000001728501_[별지 제30호서식] 산업재해조사표.hwp','');\"><img alt=\"파일(HWP)\" src=\"/img/icn/hwp_icn.gif\"/></a>,\n",
       " <a href=\"javascript:openDownload('/app/minwon_admin/samu/','000000392246_1.산재 미보고 신고서.hwp','');\"><img alt=\"파일(HWP)\" src=\"/img/icn/hwp_icn.gif\"/></a>,\n",
       " <a href=\"javascript:openDownload('/app/minwon_admin/samu/','000004919128_1.직장내성희롱 신고서.hwp','');\"><img alt=\"파일(HWP)\" src=\"/img/icn/hwp_icn.gif\"/></a>,\n",
       " <a href=\"javascript:openDownload('/app/minwon_admin/samu/','000006618624_[별지 제99호서식] 이주비 청구서.hwp','');\"><img alt=\"파일(HWP)\" src=\"/img/icn/hwp_icn.gif\"/></a>,\n",
       " <a href=\"javascript:openDownload('/app/minwon_admin/samu/','000006927243_[서식4] 체당금 등 확인신청서.hwp','');\"><img alt=\"파일(HWP)\" src=\"/img/icn/hwp_icn.gif\"/></a>,\n",
       " <a href=\"javascript:openDownload('/app/minwon_admin/samu/','000005686336_[서식 7] (감시적¸ 단속적)근로종사자에 대한 적용제외 승인 신청서.hwp','');\"><img alt=\"파일(HWP)\" src=\"/img/icn/hwp_icn.gif\"/></a>,\n",
       " <a href=\"javascript:openDownload('/app/minwon_admin/samu/','000004975045_[서식 7의2] 체불 임금등ㆍ사업주 확인서 발급신청서.hwp','');\"><img alt=\"파일(HWP)\" src=\"/img/icn/hwp_icn.gif\"/></a>,\n",
       " <a href=\"javascript:openDownload('/app/minwon_admin/samu/','000000188644_096. [서식_20]_고용보험_피보험자격_확인_청구서.hwp','');\"><img alt=\"파일(HWP)\" src=\"/img/icn/hwp_icn.gif\"/></a>]"
      ]
     },
     "execution_count": 59,
     "metadata": {},
     "output_type": "execute_result"
    }
   ],
   "source": [
    "node.find_all('a', {'class':''})"
   ]
  },
  {
   "cell_type": "code",
   "execution_count": 61,
   "metadata": {},
   "outputs": [
    {
     "data": {
      "text/plain": [
       "'http://minwon.moel.go.kr/minwon2008/lc_minwon/lc_form_apply.do'"
      ]
     },
     "execution_count": 61,
     "metadata": {},
     "output_type": "execute_result"
    }
   ],
   "source": [
    "resp.request.url"
   ]
  },
  {
   "cell_type": "code",
   "execution_count": 79,
   "metadata": {},
   "outputs": [
    {
     "ename": "AttributeError",
     "evalue": "ResultSet object has no attribute 'find_all'. You're probably treating a list of items like a single item. Did you call find_all() when you meant to call find()?",
     "output_type": "error",
     "traceback": [
      "\u001b[1;31m---------------------------------------------------------------------------\u001b[0m",
      "\u001b[1;31mAttributeError\u001b[0m                            Traceback (most recent call last)",
      "\u001b[1;32m<ipython-input-79-166d050a6de8>\u001b[0m in \u001b[0;36m<module>\u001b[1;34m\u001b[0m\n\u001b[1;32m----> 1\u001b[1;33m \u001b[0mnode\u001b[0m\u001b[1;33m.\u001b[0m\u001b[0mfind_all\u001b[0m\u001b[1;33m(\u001b[0m\u001b[1;34m'a'\u001b[0m\u001b[1;33m,\u001b[0m \u001b[1;33m{\u001b[0m\u001b[1;34m'class'\u001b[0m\u001b[1;33m:\u001b[0m\u001b[1;34m''\u001b[0m\u001b[1;33m}\u001b[0m\u001b[1;33m)\u001b[0m\u001b[1;33m.\u001b[0m\u001b[0mfind_all\u001b[0m\u001b[1;33m(\u001b[0m\u001b[0mrecursive\u001b[0m\u001b[1;33m=\u001b[0m\u001b[1;32mFalse\u001b[0m\u001b[1;33m)\u001b[0m\u001b[1;33m\u001b[0m\u001b[1;33m\u001b[0m\u001b[0m\n\u001b[0m",
      "\u001b[1;32mc:\\users\\주상원\\appdata\\local\\programs\\python\\python37\\lib\\site-packages\\bs4\\element.py\u001b[0m in \u001b[0;36m__getattr__\u001b[1;34m(self, key)\u001b[0m\n\u001b[0;32m   1600\u001b[0m     \u001b[1;32mdef\u001b[0m \u001b[0m__getattr__\u001b[0m\u001b[1;33m(\u001b[0m\u001b[0mself\u001b[0m\u001b[1;33m,\u001b[0m \u001b[0mkey\u001b[0m\u001b[1;33m)\u001b[0m\u001b[1;33m:\u001b[0m\u001b[1;33m\u001b[0m\u001b[1;33m\u001b[0m\u001b[0m\n\u001b[0;32m   1601\u001b[0m         raise AttributeError(\n\u001b[1;32m-> 1602\u001b[1;33m             \u001b[1;34m\"ResultSet object has no attribute '%s'. You're probably treating a list of items like a single item. Did you call find_all() when you meant to call find()?\"\u001b[0m \u001b[1;33m%\u001b[0m \u001b[0mkey\u001b[0m\u001b[1;33m\u001b[0m\u001b[1;33m\u001b[0m\u001b[0m\n\u001b[0m\u001b[0;32m   1603\u001b[0m         )\n",
      "\u001b[1;31mAttributeError\u001b[0m: ResultSet object has no attribute 'find_all'. You're probably treating a list of items like a single item. Did you call find_all() when you meant to call find()?"
     ]
    }
   ],
   "source": [
    "node.find_all('a', {'class':''})"
   ]
  },
  {
   "cell_type": "code",
   "execution_count": 88,
   "metadata": {},
   "outputs": [
    {
     "data": {
      "text/plain": [
       "\"javascript:openDownload('/app/minwon_admin/samu/','000007085030_132-0_임금체불진정신고서_작성예제.hwp','');\""
      ]
     },
     "execution_count": 88,
     "metadata": {},
     "output_type": "execute_result"
    }
   ],
   "source": [
    "node.find_all('a',{'class':''})[0]['href']"
   ]
  },
  {
   "cell_type": "code",
   "execution_count": 115,
   "metadata": {},
   "outputs": [
    {
     "data": {
      "text/plain": [
       "\"'000007085030_132-0_임금체불진정신고서_작성예제.hwp'\""
      ]
     },
     "execution_count": 115,
     "metadata": {},
     "output_type": "execute_result"
    }
   ],
   "source": [
    "\"_\".join(node.find_all('a',{'class':''})[0]['href'].split(\",\")[1].split('_')[0:4])"
   ]
  },
  {
   "cell_type": "code",
   "execution_count": null,
   "metadata": {},
   "outputs": [],
   "source": [
    "#http://minwon.moel.go.kr/comm_jsp/file_Download.jsp?\n",
    "#attach_path=/app/minwon_admin/samu/&\n",
    "#attach_title=000007085030_132-0_%C0%D3%B1%DD%C3%BC%BA%D2%C1%F8%C1%A4%BD%C5%B0%ED%BC%AD_%C0%DB%BC%BA%BF%B9%C1%A6.hwp"
   ]
  },
  {
   "cell_type": "code",
   "execution_count": 121,
   "metadata": {},
   "outputs": [
    {
     "data": {
      "text/plain": [
       "'000007085030_132-0_임금체불진정신고서_작성예제.hwp'"
      ]
     },
     "execution_count": 121,
     "metadata": {},
     "output_type": "execute_result"
    }
   ],
   "source": [
    "node.find_all('a',{'class':''})[0]['href'].split(\",\")[1].split(\"'\")[1]"
   ]
  },
  {
   "cell_type": "code",
   "execution_count": 122,
   "metadata": {},
   "outputs": [
    {
     "data": {
      "text/plain": [
       "'000007085030_132-0_%EC%9E%84%EA%B8%88%EC%B2%B4%EB%B6%88%EC%A7%84%EC%A0%95%EC%8B%A0%EA%B3%A0%EC%84%9C_%EC%9E%91%EC%84%B1%EC%98%88%EC%A0%9C.hwp'"
      ]
     },
     "execution_count": 122,
     "metadata": {},
     "output_type": "execute_result"
    }
   ],
   "source": [
    "quote(node.find_all('a',{'class':''})[0]['href'].split(\",\")[1].split(\"'\")[1])"
   ]
  },
  {
   "cell_type": "code",
   "execution_count": 127,
   "metadata": {},
   "outputs": [
    {
     "data": {
      "text/plain": [
       "'/app/minwon_admin/samu/'"
      ]
     },
     "execution_count": 127,
     "metadata": {},
     "output_type": "execute_result"
    }
   ],
   "source": [
    "node.find_all('a',{'class':''})[0]['href'].split(\",\")[0].split(\"'\")[1]"
   ]
  },
  {
   "cell_type": "code",
   "execution_count": 129,
   "metadata": {},
   "outputs": [
    {
     "data": {
      "text/plain": [
       "'http://minwon.moel.go.kr/app/minwon_admin/samu/000007085030_132-0_%EC%9E%84%EA%B8%88%EC%B2%B4%EB%B6%88%EC%A7%84%EC%A0%95%EC%8B%A0%EA%B3%A0%EC%84%9C_%EC%9E%91%EC%84%B1%EC%98%88%EC%A0%9C.hwp'"
      ]
     },
     "execution_count": 129,
     "metadata": {},
     "output_type": "execute_result"
    }
   ],
   "source": [
    "downurl = 'http://minwon.moel.go.kr/comm_jsp/file_Download.jsp?'\n",
    "attach_path = node.find_all('a',{'class':''})[0]['href'].split(\",\")[0].split(\"'\")[1]\n",
    "attach_title = quote(node.find_all('a',{'class':''})[0]['href'].split(\",\")[1].split(\"'\")[1])\n",
    "\n",
    "urljoin(downurl, attach_path)+attach_title"
   ]
  },
  {
   "cell_type": "code",
   "execution_count": 140,
   "metadata": {},
   "outputs": [],
   "source": [
    "def downloadfile(url, params={}, headers={}, method='GET'):\n",
    "    if canfetch(url) == False:\n",
    "        print('[Error] ' + url)\n",
    "    try:\n",
    "        resp = requests.request(method, url,\n",
    "                               params = params if method == 'GET' else {},\n",
    "                               data = params if method == 'GET' else {},\n",
    "                               headers = headers)\n",
    "        resp.raise_for_status()\n",
    "    except HTTPError as e:\n",
    "        if e.response.status_code >= 500:\n",
    "            time.sleep(100)\n",
    "            resp = download(url, params, headers, method)\n",
    "        else:\n",
    "            print('[{}]'.format(e.response.status_code)+url)\n",
    "            print(e.response.status_code)\n",
    "            print(e.response.reason)\n",
    "            print(e.response.headers)\n",
    "    return resp\n",
    "        "
   ]
  },
  {
   "cell_type": "code",
   "execution_count": 141,
   "metadata": {},
   "outputs": [
    {
     "ename": "KeyboardInterrupt",
     "evalue": "",
     "output_type": "error",
     "traceback": [
      "\u001b[1;31m---------------------------------------------------------------------------\u001b[0m",
      "\u001b[1;31mHTTPError\u001b[0m                                 Traceback (most recent call last)",
      "\u001b[1;32m<ipython-input-140-0a4e665b954c>\u001b[0m in \u001b[0;36mdownloadfile\u001b[1;34m(url, params, headers, method)\u001b[0m\n\u001b[0;32m      8\u001b[0m                                headers = headers)\n\u001b[1;32m----> 9\u001b[1;33m         \u001b[0mresp\u001b[0m\u001b[1;33m.\u001b[0m\u001b[0mraise_for_status\u001b[0m\u001b[1;33m(\u001b[0m\u001b[1;33m)\u001b[0m\u001b[1;33m\u001b[0m\u001b[1;33m\u001b[0m\u001b[0m\n\u001b[0m\u001b[0;32m     10\u001b[0m     \u001b[1;32mexcept\u001b[0m \u001b[0mHTTPError\u001b[0m \u001b[1;32mas\u001b[0m \u001b[0me\u001b[0m\u001b[1;33m:\u001b[0m\u001b[1;33m\u001b[0m\u001b[1;33m\u001b[0m\u001b[0m\n",
      "\u001b[1;32mc:\\users\\주상원\\appdata\\local\\programs\\python\\python37\\lib\\site-packages\\requests\\models.py\u001b[0m in \u001b[0;36mraise_for_status\u001b[1;34m(self)\u001b[0m\n\u001b[0;32m    939\u001b[0m         \u001b[1;32mif\u001b[0m \u001b[0mhttp_error_msg\u001b[0m\u001b[1;33m:\u001b[0m\u001b[1;33m\u001b[0m\u001b[1;33m\u001b[0m\u001b[0m\n\u001b[1;32m--> 940\u001b[1;33m             \u001b[1;32mraise\u001b[0m \u001b[0mHTTPError\u001b[0m\u001b[1;33m(\u001b[0m\u001b[0mhttp_error_msg\u001b[0m\u001b[1;33m,\u001b[0m \u001b[0mresponse\u001b[0m\u001b[1;33m=\u001b[0m\u001b[0mself\u001b[0m\u001b[1;33m)\u001b[0m\u001b[1;33m\u001b[0m\u001b[1;33m\u001b[0m\u001b[0m\n\u001b[0m\u001b[0;32m    941\u001b[0m \u001b[1;33m\u001b[0m\u001b[0m\n",
      "\u001b[1;31mHTTPError\u001b[0m: 500 Server Error: Internal Server Error for url: http://minwon.moel.go.kr/comm_jsp/file_Download.jsp?attach_path=%2Fapp%2Fminwon_admin%2Fsamu%2F&attach_title=000007085030_132-0_%25EC%259E%2584%25EA%25B8%2588%25EC%25B2%25B4%25EB%25B6%2588%25EC%25A7%2584%25EC%25A0%2595%25EC%258B%25A0%25EA%25B3%25A0%25EC%2584%259C_%25EC%259E%2591%25EC%2584%25B1%25EC%2598%2588%25EC%25A0%259C.hwp",
      "\nDuring handling of the above exception, another exception occurred:\n",
      "\u001b[1;31mKeyboardInterrupt\u001b[0m                         Traceback (most recent call last)",
      "\u001b[1;32m<ipython-input-141-dfa0f16b6185>\u001b[0m in \u001b[0;36m<module>\u001b[1;34m\u001b[0m\n\u001b[0;32m      4\u001b[0m     \u001b[1;34m'attach_title'\u001b[0m \u001b[1;33m:\u001b[0m \u001b[0mquote\u001b[0m\u001b[1;33m(\u001b[0m\u001b[0mnode\u001b[0m\u001b[1;33m.\u001b[0m\u001b[0mfind_all\u001b[0m\u001b[1;33m(\u001b[0m\u001b[1;34m'a'\u001b[0m\u001b[1;33m,\u001b[0m\u001b[1;33m{\u001b[0m\u001b[1;34m'class'\u001b[0m\u001b[1;33m:\u001b[0m\u001b[1;34m''\u001b[0m\u001b[1;33m}\u001b[0m\u001b[1;33m)\u001b[0m\u001b[1;33m[\u001b[0m\u001b[1;36m0\u001b[0m\u001b[1;33m]\u001b[0m\u001b[1;33m[\u001b[0m\u001b[1;34m'href'\u001b[0m\u001b[1;33m]\u001b[0m\u001b[1;33m.\u001b[0m\u001b[0msplit\u001b[0m\u001b[1;33m(\u001b[0m\u001b[1;34m\",\"\u001b[0m\u001b[1;33m)\u001b[0m\u001b[1;33m[\u001b[0m\u001b[1;36m1\u001b[0m\u001b[1;33m]\u001b[0m\u001b[1;33m.\u001b[0m\u001b[0msplit\u001b[0m\u001b[1;33m(\u001b[0m\u001b[1;34m\"'\"\u001b[0m\u001b[1;33m)\u001b[0m\u001b[1;33m[\u001b[0m\u001b[1;36m1\u001b[0m\u001b[1;33m]\u001b[0m\u001b[1;33m)\u001b[0m\u001b[1;33m\u001b[0m\u001b[1;33m\u001b[0m\u001b[0m\n\u001b[0;32m      5\u001b[0m }\n\u001b[1;32m----> 6\u001b[1;33m \u001b[0mresp\u001b[0m \u001b[1;33m=\u001b[0m \u001b[0mdownloadfile\u001b[0m\u001b[1;33m(\u001b[0m\u001b[0mdownurl\u001b[0m\u001b[1;33m,\u001b[0m \u001b[0mparams\u001b[0m\u001b[1;33m,\u001b[0m \u001b[0mheaders\u001b[0m\u001b[1;33m,\u001b[0m \u001b[1;34m'GET'\u001b[0m\u001b[1;33m)\u001b[0m\u001b[1;33m\u001b[0m\u001b[1;33m\u001b[0m\u001b[0m\n\u001b[0m",
      "\u001b[1;32m<ipython-input-140-0a4e665b954c>\u001b[0m in \u001b[0;36mdownloadfile\u001b[1;34m(url, params, headers, method)\u001b[0m\n\u001b[0;32m     10\u001b[0m     \u001b[1;32mexcept\u001b[0m \u001b[0mHTTPError\u001b[0m \u001b[1;32mas\u001b[0m \u001b[0me\u001b[0m\u001b[1;33m:\u001b[0m\u001b[1;33m\u001b[0m\u001b[1;33m\u001b[0m\u001b[0m\n\u001b[0;32m     11\u001b[0m         \u001b[1;32mif\u001b[0m \u001b[0me\u001b[0m\u001b[1;33m.\u001b[0m\u001b[0mresponse\u001b[0m\u001b[1;33m.\u001b[0m\u001b[0mstatus_code\u001b[0m \u001b[1;33m>=\u001b[0m \u001b[1;36m500\u001b[0m\u001b[1;33m:\u001b[0m\u001b[1;33m\u001b[0m\u001b[1;33m\u001b[0m\u001b[0m\n\u001b[1;32m---> 12\u001b[1;33m             \u001b[0mtime\u001b[0m\u001b[1;33m.\u001b[0m\u001b[0msleep\u001b[0m\u001b[1;33m(\u001b[0m\u001b[1;36m100\u001b[0m\u001b[1;33m)\u001b[0m\u001b[1;33m\u001b[0m\u001b[1;33m\u001b[0m\u001b[0m\n\u001b[0m\u001b[0;32m     13\u001b[0m             \u001b[0mresp\u001b[0m \u001b[1;33m=\u001b[0m \u001b[0mdownload\u001b[0m\u001b[1;33m(\u001b[0m\u001b[0murl\u001b[0m\u001b[1;33m,\u001b[0m \u001b[0mparams\u001b[0m\u001b[1;33m,\u001b[0m \u001b[0mheaders\u001b[0m\u001b[1;33m,\u001b[0m \u001b[0mmethod\u001b[0m\u001b[1;33m)\u001b[0m\u001b[1;33m\u001b[0m\u001b[1;33m\u001b[0m\u001b[0m\n\u001b[0;32m     14\u001b[0m         \u001b[1;32melse\u001b[0m\u001b[1;33m:\u001b[0m\u001b[1;33m\u001b[0m\u001b[1;33m\u001b[0m\u001b[0m\n",
      "\u001b[1;31mKeyboardInterrupt\u001b[0m: "
     ]
    }
   ],
   "source": [
    "downurl = 'http://minwon.moel.go.kr/comm_jsp/file_Download.jsp?'\n",
    "params = {\n",
    "    'attach_path' : node.find_all('a',{'class':''})[0]['href'].split(\",\")[0].split(\"'\")[1],\n",
    "    'attach_title' : quote(node.find_all('a',{'class':''})[0]['href'].split(\",\")[1].split(\"'\")[1])\n",
    "}\n",
    "resp = downloadfile(downurl, params, headers, 'GET')"
   ]
  },
  {
   "cell_type": "code",
   "execution_count": null,
   "metadata": {},
   "outputs": [],
   "source": []
  },
  {
   "cell_type": "code",
   "execution_count": null,
   "metadata": {},
   "outputs": [],
   "source": []
  },
  {
   "cell_type": "code",
   "execution_count": null,
   "metadata": {},
   "outputs": [],
   "source": []
  },
  {
   "cell_type": "code",
   "execution_count": null,
   "metadata": {},
   "outputs": [],
   "source": []
  },
  {
   "cell_type": "code",
   "execution_count": null,
   "metadata": {},
   "outputs": [],
   "source": []
  },
  {
   "cell_type": "code",
   "execution_count": null,
   "metadata": {},
   "outputs": [],
   "source": []
  },
  {
   "cell_type": "code",
   "execution_count": null,
   "metadata": {},
   "outputs": [],
   "source": []
  },
  {
   "cell_type": "code",
   "execution_count": null,
   "metadata": {},
   "outputs": [],
   "source": []
  },
  {
   "cell_type": "code",
   "execution_count": null,
   "metadata": {},
   "outputs": [],
   "source": []
  },
  {
   "cell_type": "code",
   "execution_count": null,
   "metadata": {},
   "outputs": [],
   "source": []
  },
  {
   "cell_type": "code",
   "execution_count": 105,
   "metadata": {},
   "outputs": [
    {
     "data": {
      "text/plain": [
       "('%EC%9E%91%EC%84%B1%EC%98%88%EC%A0%9C.hwp',\n",
       " '%EC%9E%91%EC%84%B1%EC%98%88%EC%A0%9C')"
      ]
     },
     "execution_count": 105,
     "metadata": {},
     "output_type": "execute_result"
    }
   ],
   "source": []
  },
  {
   "cell_type": "code",
   "execution_count": null,
   "metadata": {},
   "outputs": [],
   "source": []
  },
  {
   "cell_type": "code",
   "execution_count": null,
   "metadata": {},
   "outputs": [],
   "source": []
  },
  {
   "cell_type": "code",
   "execution_count": null,
   "metadata": {},
   "outputs": [],
   "source": []
  },
  {
   "cell_type": "code",
   "execution_count": null,
   "metadata": {},
   "outputs": [],
   "source": []
  },
  {
   "cell_type": "code",
   "execution_count": null,
   "metadata": {},
   "outputs": [],
   "source": []
  },
  {
   "cell_type": "code",
   "execution_count": null,
   "metadata": {},
   "outputs": [],
   "source": []
  },
  {
   "cell_type": "code",
   "execution_count": null,
   "metadata": {},
   "outputs": [],
   "source": []
  },
  {
   "cell_type": "code",
   "execution_count": 95,
   "metadata": {},
   "outputs": [
    {
     "data": {
      "text/plain": [
       "\"','000007085030_132-0_임금체불진정신고서_작성예제.hwp','');\""
      ]
     },
     "execution_count": 95,
     "metadata": {},
     "output_type": "execute_result"
    }
   ],
   "source": [
    "node.find_all('a',{'class':''})[0]['href'].split(\"/\")[4]"
   ]
  },
  {
   "cell_type": "code",
   "execution_count": null,
   "metadata": {},
   "outputs": [],
   "source": []
  },
  {
   "cell_type": "code",
   "execution_count": null,
   "metadata": {},
   "outputs": [],
   "source": []
  },
  {
   "cell_type": "code",
   "execution_count": null,
   "metadata": {},
   "outputs": [],
   "source": []
  },
  {
   "cell_type": "code",
   "execution_count": null,
   "metadata": {},
   "outputs": [],
   "source": []
  },
  {
   "cell_type": "code",
   "execution_count": null,
   "metadata": {},
   "outputs": [],
   "source": []
  },
  {
   "cell_type": "code",
   "execution_count": null,
   "metadata": {},
   "outputs": [],
   "source": []
  },
  {
   "cell_type": "code",
   "execution_count": null,
   "metadata": {},
   "outputs": [],
   "source": []
  },
  {
   "cell_type": "code",
   "execution_count": null,
   "metadata": {},
   "outputs": [],
   "source": []
  },
  {
   "cell_type": "code",
   "execution_count": null,
   "metadata": {},
   "outputs": [],
   "source": []
  },
  {
   "cell_type": "code",
   "execution_count": null,
   "metadata": {},
   "outputs": [],
   "source": []
  },
  {
   "cell_type": "code",
   "execution_count": null,
   "metadata": {},
   "outputs": [],
   "source": []
  },
  {
   "cell_type": "code",
   "execution_count": null,
   "metadata": {},
   "outputs": [],
   "source": []
  },
  {
   "cell_type": "code",
   "execution_count": null,
   "metadata": {},
   "outputs": [],
   "source": []
  },
  {
   "cell_type": "code",
   "execution_count": null,
   "metadata": {},
   "outputs": [],
   "source": []
  },
  {
   "cell_type": "code",
   "execution_count": null,
   "metadata": {},
   "outputs": [],
   "source": []
  },
  {
   "cell_type": "code",
   "execution_count": null,
   "metadata": {},
   "outputs": [],
   "source": []
  },
  {
   "cell_type": "code",
   "execution_count": null,
   "metadata": {},
   "outputs": [],
   "source": []
  },
  {
   "cell_type": "code",
   "execution_count": null,
   "metadata": {},
   "outputs": [],
   "source": []
  },
  {
   "cell_type": "code",
   "execution_count": null,
   "metadata": {},
   "outputs": [],
   "source": []
  },
  {
   "cell_type": "code",
   "execution_count": null,
   "metadata": {},
   "outputs": [],
   "source": []
  },
  {
   "cell_type": "code",
   "execution_count": null,
   "metadata": {},
   "outputs": [],
   "source": []
  },
  {
   "cell_type": "code",
   "execution_count": null,
   "metadata": {},
   "outputs": [],
   "source": []
  },
  {
   "cell_type": "code",
   "execution_count": null,
   "metadata": {},
   "outputs": [],
   "source": []
  },
  {
   "cell_type": "code",
   "execution_count": null,
   "metadata": {},
   "outputs": [],
   "source": []
  }
 ],
 "metadata": {
  "kernelspec": {
   "display_name": "Python 3",
   "language": "python",
   "name": "python3"
  },
  "language_info": {
   "codemirror_mode": {
    "name": "ipython",
    "version": 3
   },
   "file_extension": ".py",
   "mimetype": "text/x-python",
   "name": "python",
   "nbconvert_exporter": "python",
   "pygments_lexer": "ipython3",
   "version": "3.7.4"
  }
 },
 "nbformat": 4,
 "nbformat_minor": 2
}
